{
 "cells": [
  {
   "cell_type": "code",
   "execution_count": null,
   "id": "4632f09b",
   "metadata": {},
   "outputs": [],
   "source": [
    "import pandas as pd\n",
    "\n",
    "file_path = 'US_Accidents_March23.csv'\n",
    "\n",
    "# Read the CSV file into a DataFrame\n",
    "df = pd.read_csv(file_path)\n",
    "\n",
    "# Shuffle the DataFrame\n",
    "shuffled_df = df.sample(frac=1).reset_index(drop=True)\n",
    "\n",
    "# Specify the number of rows to save (e.g., 1000000)\n",
    "num_rows_to_save = 1000000\n",
    "\n",
    "# Slice the DataFrame to save only the specified number of rows\n",
    "shuffled_df_to_save = shuffled_df.head(num_rows_to_save)\n",
    "\n",
    "# If you want to save the sliced and shuffled data to a new CSV file\n",
    "# Replace 'extracted_data.csv' with the desired output file name\n",
    "shuffled_df_to_save.to_csv('extracted_data.csv', index=False)\n"
   ]
  },
  {
   "cell_type": "code",
   "execution_count": null,
   "id": "7f39987c",
   "metadata": {},
   "outputs": [],
   "source": []
  }
 ],
 "metadata": {
  "kernelspec": {
   "display_name": "Python 3 (ipykernel)",
   "language": "python",
   "name": "python3"
  },
  "language_info": {
   "codemirror_mode": {
    "name": "ipython",
    "version": 3
   },
   "file_extension": ".py",
   "mimetype": "text/x-python",
   "name": "python",
   "nbconvert_exporter": "python",
   "pygments_lexer": "ipython3",
   "version": "3.11.3"
  }
 },
 "nbformat": 4,
 "nbformat_minor": 5
}
